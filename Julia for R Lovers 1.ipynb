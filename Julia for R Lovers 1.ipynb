{
 "cells": [
  {
   "cell_type": "markdown",
   "metadata": {},
   "source": [
    "# Julia for R-Lovers\n",
    "Part one: Basics of working with R & Julia\n",
    "\n",
    "1. Julia basics \n",
    "2. RCall & using R in Julia\n",
    "3. Communicating between R and Julia\n",
    "4. (Some) essential Julia packages for data science"
   ]
  },
  {
   "cell_type": "markdown",
   "metadata": {},
   "source": [
    "## 1. Julia basics\n",
    "\n",
    "### Basic code conventions\n",
    "- #: comment\n",
    "    - #= =#: multi-line comment\n",
    "- basic math symbols as expected (+, -, /, *, ^, %)\n",
    "- assign variables with =\n",
    "- typeof(): gives variable type (Int64, Float64, String, etc.)\n",
    "    - concrete types (Int64, Float64) belong to more abstract types (Float, Number, Any)\n",
    "    - convert(Float64, 3): changes variable type\n",
    "- can use unicode characters like emojis and mathematical symbols\n"
   ]
  },
  {
   "cell_type": "code",
   "execution_count": 1,
   "metadata": {},
   "outputs": [
    {
     "data": {
      "text/plain": [
       "1205"
      ]
     },
     "execution_count": 1,
     "metadata": {},
     "output_type": "execute_result"
    }
   ],
   "source": [
    "#comment \n",
    "\n",
    "#= long comment\n",
    "over multiple lines =#\n",
    "\n",
    "1247 - 42"
   ]
  },
  {
   "cell_type": "code",
   "execution_count": 2,
   "metadata": {},
   "outputs": [
    {
     "data": {
      "text/plain": [
       "10"
      ]
     },
     "execution_count": 2,
     "metadata": {},
     "output_type": "execute_result"
    }
   ],
   "source": [
    "number = 10"
   ]
  },
  {
   "cell_type": "code",
   "execution_count": 3,
   "metadata": {},
   "outputs": [
    {
     "data": {
      "text/plain": [
       "1.5"
      ]
     },
     "execution_count": 3,
     "metadata": {},
     "output_type": "execute_result"
    }
   ],
   "source": [
    "number_2 = 1.5"
   ]
  },
  {
   "cell_type": "code",
   "execution_count": 4,
   "metadata": {},
   "outputs": [
    {
     "data": {
      "text/plain": [
       "Int64"
      ]
     },
     "execution_count": 4,
     "metadata": {},
     "output_type": "execute_result"
    }
   ],
   "source": [
    "typeof(number)"
   ]
  },
  {
   "cell_type": "code",
   "execution_count": 5,
   "metadata": {},
   "outputs": [
    {
     "data": {
      "text/plain": [
       "Float64"
      ]
     },
     "execution_count": 5,
     "metadata": {},
     "output_type": "execute_result"
    }
   ],
   "source": [
    "typeof(number_2)"
   ]
  },
  {
   "cell_type": "code",
   "execution_count": 6,
   "metadata": {},
   "outputs": [
    {
     "data": {
      "text/plain": [
       "11.5"
      ]
     },
     "execution_count": 6,
     "metadata": {},
     "output_type": "execute_result"
    }
   ],
   "source": [
    "number + number_2"
   ]
  },
  {
   "cell_type": "code",
   "execution_count": 7,
   "metadata": {},
   "outputs": [
    {
     "data": {
      "text/plain": [
       "15.0"
      ]
     },
     "execution_count": 7,
     "metadata": {},
     "output_type": "execute_result"
    }
   ],
   "source": [
    "number * number_2"
   ]
  },
  {
   "cell_type": "code",
   "execution_count": 8,
   "metadata": {},
   "outputs": [
    {
     "data": {
      "text/plain": [
       "10.0"
      ]
     },
     "execution_count": 8,
     "metadata": {},
     "output_type": "execute_result"
    }
   ],
   "source": [
    "convert(Float64, number)"
   ]
  },
  {
   "cell_type": "markdown",
   "metadata": {},
   "source": [
    "### Strings\n",
    "- Define strings with \" \" or \"\"\" \"\"\" \n",
    "- Define characters (char) with ' ' \n",
    "- string(): convert to string and concatenate strings\n",
    "- *: to concatenate strings\n",
    "    - Ex: varname * varname \n",
    "    \n",
    "*Note: using ; at end of line suppresses output in Julia*"
   ]
  },
  {
   "cell_type": "code",
   "execution_count": 9,
   "metadata": {},
   "outputs": [],
   "source": [
    "hashtag = \"rstats\";\n",
    "language = 'R';"
   ]
  },
  {
   "cell_type": "code",
   "execution_count": 10,
   "metadata": {},
   "outputs": [
    {
     "data": {
      "text/plain": [
       "String"
      ]
     },
     "execution_count": 10,
     "metadata": {},
     "output_type": "execute_result"
    }
   ],
   "source": [
    "typeof(hashtag)"
   ]
  },
  {
   "cell_type": "code",
   "execution_count": 11,
   "metadata": {},
   "outputs": [
    {
     "data": {
      "text/plain": [
       "Char"
      ]
     },
     "execution_count": 11,
     "metadata": {},
     "output_type": "execute_result"
    }
   ],
   "source": [
    "typeof(language)"
   ]
  },
  {
   "cell_type": "code",
   "execution_count": 12,
   "metadata": {},
   "outputs": [
    {
     "ename": "LoadError",
     "evalue": "\u001b[91msyntax: character literal contains multiple characters\u001b[39m",
     "output_type": "error",
     "traceback": [
      "\u001b[91msyntax: character literal contains multiple characters\u001b[39m",
      "",
      "Stacktrace:",
      " [1] top-level scope at In[12]:1",
      " [2] include_string(::Function, ::Module, ::String, ::String) at ./loading.jl:1091"
     ]
    }
   ],
   "source": [
    "greeting = 'hello'"
   ]
  },
  {
   "cell_type": "code",
   "execution_count": 13,
   "metadata": {},
   "outputs": [
    {
     "data": {
      "text/plain": [
       "\"rstatsR\""
      ]
     },
     "execution_count": 13,
     "metadata": {},
     "output_type": "execute_result"
    }
   ],
   "source": [
    "hashtag * language"
   ]
  },
  {
   "cell_type": "markdown",
   "metadata": {},
   "source": [
    "## 2. R-Call & using R in Julia\n",
    "https://juliainterop.github.io/RCall.jl/latest/gettingstarted.html\n",
    "\n",
    "- Support for dual-language workflow with R & Julia \n",
    "- Comparable packages exist for working with Julia in R but are less efficient\n",
    "\n",
    "### R-Call essentials\n",
    "- R\" \" or R\"\"\" \"\"\""
   ]
  },
  {
   "cell_type": "code",
   "execution_count": 14,
   "metadata": {},
   "outputs": [],
   "source": [
    "#using Pkg\n",
    "#Pkg.add(\"RCall\") #analogous to install.packages(\"package\") in R\n",
    "\n",
    "using RCall #analogous to library(package) in R"
   ]
  },
  {
   "cell_type": "code",
   "execution_count": 15,
   "metadata": {},
   "outputs": [
    {
     "data": {
      "text/plain": [
       "RObject{IntSxp}\n",
       "[1] 15\n"
      ]
     },
     "execution_count": 15,
     "metadata": {},
     "output_type": "execute_result"
    }
   ],
   "source": [
    "R\"nchar('Julia is great!')\""
   ]
  },
  {
   "cell_type": "code",
   "execution_count": 16,
   "metadata": {},
   "outputs": [
    {
     "data": {
      "text/plain": [
       "RObject{RealSxp}\n",
       " [1] 110.7 119.0 115.9  84.3 113.5 106.7  84.3  95.8 105.9  76.0\n"
      ]
     },
     "execution_count": 16,
     "metadata": {},
     "output_type": "execute_result"
    }
   ],
   "source": [
    "R\"round(rnorm(10,100,15), 1)\""
   ]
  },
  {
   "cell_type": "code",
   "execution_count": 17,
   "metadata": {},
   "outputs": [
    {
     "data": {
      "text/plain": [
       "RObject{StrSxp}\n",
       "[1] \"I have 3 favorite languages!\"\n"
      ]
     },
     "execution_count": 17,
     "metadata": {},
     "output_type": "execute_result"
    }
   ],
   "source": [
    "R\"\"\"\n",
    "fav_langs <- c(\"Julia\", \"R\", \"Python\")\n",
    "\n",
    "paste(\"I have\", length(fav_langs), \"favorite languages!\")\n",
    "\"\"\""
   ]
  },
  {
   "cell_type": "code",
   "execution_count": 18,
   "metadata": {},
   "outputs": [
    {
     "data": {
      "text/plain": [
       "RObject{StrSxp}\n",
       "[1] \"Julia\"  \"R\"      \"Python\"\n"
      ]
     },
     "execution_count": 18,
     "metadata": {},
     "output_type": "execute_result"
    }
   ],
   "source": [
    "R\"fav_langs\""
   ]
  },
  {
   "cell_type": "markdown",
   "metadata": {},
   "source": [
    "- You can also load packages to R in the Julia envrionment and continue to use functions from them"
   ]
  },
  {
   "cell_type": "code",
   "execution_count": 19,
   "metadata": {},
   "outputs": [
    {
     "name": "stderr",
     "output_type": "stream",
     "text": [
      "┌ Warning: RCall.jl: Warning: replacing previous import ‘vctrs::data_frame’ by ‘tibble::data_frame’ when loading ‘dplyr’\n",
      "│ ── Attaching packages ─────────────────────────────────────── tidyverse 1.3.0 ──\n",
      "│ ✔ ggplot2 3.3.5     ✔ purrr   0.3.4\n",
      "│ ✔ tibble  3.1.2     ✔ dplyr   1.0.0\n",
      "│ ✔ tidyr   1.1.2     ✔ stringr 1.4.0\n",
      "│ ✔ readr   1.3.1     ✔ forcats 0.5.0\n",
      "│ ── Conflicts ────────────────────────────────────────── tidyverse_conflicts() ──\n",
      "│ ✖ dplyr::filter() masks stats::filter()\n",
      "│ ✖ dplyr::lag()    masks stats::lag()\n",
      "└ @ RCall /Users/kylamcconnell/.julia/packages/RCall/Qzssx/src/io.jl:160\n"
     ]
    },
    {
     "data": {
      "text/plain": [
       "RObject{StrSxp}\n",
       " [1] \"forcats\"   \"stringr\"   \"dplyr\"     \"purrr\"     \"readr\"     \"tidyr\"    \n",
       " [7] \"tibble\"    \"ggplot2\"   \"tidyverse\" \"stats\"     \"graphics\"  \"grDevices\"\n",
       "[13] \"utils\"     \"datasets\"  \"methods\"   \"base\"     \n"
      ]
     },
     "execution_count": 19,
     "metadata": {},
     "output_type": "execute_result"
    }
   ],
   "source": [
    "R\"library(tidyverse)\""
   ]
  },
  {
   "cell_type": "code",
   "execution_count": 20,
   "metadata": {},
   "outputs": [
    {
     "data": {
      "text/plain": [
       "RObject{VecSxp}\n",
       "# A tibble: 4 x 2\n",
       "  language rating\n",
       "  <chr>     <dbl>\n",
       "1 Julia         9\n",
       "2 R            10\n",
       "3 Python        8\n",
       "4 Java          1\n"
      ]
     },
     "execution_count": 20,
     "metadata": {},
     "output_type": "execute_result"
    }
   ],
   "source": [
    "R\"ratings <- tibble(language = c('Julia', 'R', 'Python', 'Java'), rating = c(9, 10, 8, 1))\""
   ]
  },
  {
   "cell_type": "code",
   "execution_count": 21,
   "metadata": {},
   "outputs": [
    {
     "data": {
      "text/plain": [
       "RObject{VecSxp}\n",
       "# A tibble: 4 x 2\n",
       "  language rating\n",
       "  <chr>     <dbl>\n",
       "1 R            10\n",
       "2 Julia         9\n",
       "3 Python        8\n",
       "4 Java          1\n"
      ]
     },
     "execution_count": 21,
     "metadata": {},
     "output_type": "execute_result"
    }
   ],
   "source": [
    "R\"\"\"\n",
    "ratings %>%\n",
    "   arrange(desc(rating))\n",
    "\"\"\""
   ]
  },
  {
   "cell_type": "code",
   "execution_count": 22,
   "metadata": {},
   "outputs": [
    {
     "data": {
      "text/plain": [
       "RObject{VecSxp}\n",
       "# A tibble: 4 x 3\n",
       "  language rating percent\n",
       "  <chr>     <dbl>   <dbl>\n",
       "1 Julia         9      90\n",
       "2 R            10     100\n",
       "3 Python        8      80\n",
       "4 Java          1      10\n"
      ]
     },
     "execution_count": 22,
     "metadata": {},
     "output_type": "execute_result"
    }
   ],
   "source": [
    "R\"\"\"\n",
    "ratings <- ratings %>% \n",
    "   mutate(percent = rating * 10)\n",
    "\n",
    "ratings\n",
    "\"\"\""
   ]
  },
  {
   "cell_type": "code",
   "execution_count": 23,
   "metadata": {},
   "outputs": [
    {
     "data": {
      "image/png": "[encoded data removed]"
     },
     "metadata": {},
     "output_type": "display_data"
    },
    {
     "data": {
      "text/plain": [
       "RObject{VecSxp}\n"
      ]
     },
     "execution_count": 23,
     "metadata": {},
     "output_type": "execute_result"
    }
   ],
   "source": [
    "R\"\"\"\n",
    "ggplot(ratings, aes(x = language, y = rating, fill = language)) +\n",
    "  geom_col() +\n",
    "  theme_minimal()\n",
    "\"\"\""
   ]
  },
  {
   "cell_type": "markdown",
   "metadata": {},
   "source": [
    "## 3. Communiating between R and Julia\n",
    "\n",
    "What about Julia?\n",
    "\n",
    "- Create variables in Julia and transfer them to R with $"
   ]
  },
  {
   "cell_type": "code",
   "execution_count": 24,
   "metadata": {},
   "outputs": [
    {
     "data": {
      "text/plain": [
       "\"Hello there users of R!\""
      ]
     },
     "execution_count": 24,
     "metadata": {},
     "output_type": "execute_result"
    }
   ],
   "source": [
    "greeting = \"Hello there users of R!\""
   ]
  },
  {
   "cell_type": "code",
   "execution_count": 25,
   "metadata": {},
   "outputs": [
    {
     "data": {
      "text/plain": [
       "RObject{StrSxp}\n",
       "[1] \"HELLO THERE USERS OF R!\"\n"
      ]
     },
     "execution_count": 25,
     "metadata": {},
     "output_type": "execute_result"
    }
   ],
   "source": [
    "R\"toupper($greeting)\""
   ]
  },
  {
   "cell_type": "code",
   "execution_count": 26,
   "metadata": {},
   "outputs": [
    {
     "data": {
      "text/plain": [
       "RObject{RealSxp}\n",
       "[1] 180\n"
      ]
     },
     "execution_count": 26,
     "metadata": {},
     "output_type": "execute_result"
    }
   ],
   "source": [
    "hrs = 3\n",
    "\n",
    "R\"mns <- 60 * $hrs\""
   ]
  },
  {
   "cell_type": "code",
   "execution_count": 27,
   "metadata": {},
   "outputs": [
    {
     "data": {
      "text/plain": [
       "RObject{StrSxp}\n",
       "[1] \"There are 180 minutes in 3 hours.\"\n"
      ]
     },
     "execution_count": 27,
     "metadata": {},
     "output_type": "execute_result"
    }
   ],
   "source": [
    "R\"paste('There are', mns, 'minutes in', $hrs, 'hours.')\""
   ]
  },
  {
   "cell_type": "markdown",
   "metadata": {},
   "source": [
    "- Can also substitute Julia operations into your R code with $"
   ]
  },
  {
   "cell_type": "code",
   "execution_count": 28,
   "metadata": {},
   "outputs": [
    {
     "data": {
      "text/plain": [
       "8:11"
      ]
     },
     "execution_count": 28,
     "metadata": {},
     "output_type": "execute_result"
    }
   ],
   "source": [
    "findfirst(\"love\", \"We all love R!\") #example function I know in Julia but not R, returns index of substring"
   ]
  },
  {
   "cell_type": "code",
   "execution_count": 29,
   "metadata": {
    "scrolled": true
   },
   "outputs": [
    {
     "data": {
      "text/plain": [
       "RObject{IntSxp}\n",
       "[1] 105 106 107 108 109 110 111 112 113\n"
      ]
     },
     "execution_count": 29,
     "metadata": {},
     "output_type": "execute_result"
    }
   ],
   "source": [
    "R\"\"\"\n",
    "solitude <- 'Many years later, as he faced the firing squad, Colonel Aureliano Buendía was to remember that distant afternoon when his father took him to discover ice.'\n",
    "\n",
    "$findfirst(\"afternoon\", solitude)\n",
    "\"\"\""
   ]
  },
  {
   "cell_type": "markdown",
   "metadata": {},
   "source": [
    "### How to get objects from R back to Julia?\n",
    "\n",
    "Macros: @rput & @rget\n",
    "- Macros = metacode: Julia code that alters Julia code\n",
    "- Move the variable from R to Julia (or vice versa) with the same name (and keep it there)"
   ]
  },
  {
   "cell_type": "code",
   "execution_count": 30,
   "metadata": {},
   "outputs": [
    {
     "data": {
      "text/plain": [
       "\"Many years later, as he faced the firing squad, Colonel Aureliano Buendía was to remember that distant afternoon when his father took him to discover ice.\""
      ]
     },
     "execution_count": 30,
     "metadata": {},
     "output_type": "execute_result"
    }
   ],
   "source": [
    "@rget solitude \n",
    "\n",
    "solitude"
   ]
  },
  {
   "cell_type": "code",
   "execution_count": 31,
   "metadata": {},
   "outputs": [
    {
     "data": {
      "text/plain": [
       "\"afternoon\""
      ]
     },
     "execution_count": 31,
     "metadata": {},
     "output_type": "execute_result"
    }
   ],
   "source": [
    "solitude[105:113]"
   ]
  },
  {
   "cell_type": "code",
   "execution_count": 32,
   "metadata": {},
   "outputs": [
    {
     "data": {
      "text/plain": [
       "RObject{RealSxp}\n",
       "  [1] 37.2 25.9 25.1 27.7 23.2 20.4 28.2 21.0 27.7 21.1 17.1 22.8 23.7 25.0 32.1\n",
       " [16] 22.7 29.0 26.5 34.4 28.7 26.6 39.5 30.0 18.2 33.1 29.0 17.2 31.0 24.4 30.9\n",
       " [31] 26.0 23.8 18.3 25.5 21.1 25.0 26.1 32.2 27.2 26.9 25.5 18.7 23.1 13.0 22.8\n",
       " [46] 33.0 21.6 18.5 25.3 23.5 24.9 15.1 21.2 22.7 19.2 23.4 25.1 21.2 25.9 26.2\n",
       " [61] 24.4 17.4 21.5 28.9 26.0 27.9 29.6 31.9 24.7 21.5 27.3 26.1 28.1 21.0 27.9\n",
       " [76] 20.0 26.5 30.2 26.2 24.6 26.0 20.0 27.4 10.4 22.3 23.6 28.2 31.0 28.7 27.3\n",
       " [91] 30.2 23.2 18.5 28.9 19.8 33.3 21.6 21.5 29.6 30.1\n"
      ]
     },
     "execution_count": 32,
     "metadata": {},
     "output_type": "execute_result"
    }
   ],
   "source": [
    "R\"dist <- round(rnorm(100, 25, 5), 1)\""
   ]
  },
  {
   "cell_type": "code",
   "execution_count": 33,
   "metadata": {},
   "outputs": [
    {
     "data": {
      "text/plain": [
       "100"
      ]
     },
     "execution_count": 33,
     "metadata": {},
     "output_type": "execute_result"
    }
   ],
   "source": [
    "@rget dist\n",
    "\n",
    "length(dist)"
   ]
  },
  {
   "cell_type": "code",
   "execution_count": 34,
   "metadata": {},
   "outputs": [
    {
     "data": {
      "text/plain": [
       "100-element Array{Float64,1}:\n",
       " 6.099180272790763\n",
       " 5.089204259999788\n",
       " 5.0099900199501395\n",
       " 5.263078946776307\n",
       " 4.8166378315169185\n",
       " 4.516635916254486\n",
       " 5.310367218940701\n",
       " 4.58257569495584\n",
       " 5.263078946776307\n",
       " 4.5934736311423405\n",
       " 4.135214625627067\n",
       " 4.774934554525329\n",
       " 4.868264577855234\n",
       " ⋮\n",
       " 5.357238094391549\n",
       " 5.224940191045253\n",
       " 5.495452665613635\n",
       " 4.8166378315169185\n",
       " 4.301162633521313\n",
       " 5.375872022286245\n",
       " 4.449719092257398\n",
       " 5.770615218501403\n",
       " 4.6475800154489\n",
       " 4.636809247747852\n",
       " 5.440588203494177\n",
       " 5.486346689738081"
      ]
     },
     "execution_count": 34,
     "metadata": {},
     "output_type": "execute_result"
    }
   ],
   "source": [
    "dist = sqrt.(dist) #elementwise square roots"
   ]
  },
  {
   "cell_type": "code",
   "execution_count": 35,
   "metadata": {},
   "outputs": [],
   "source": [
    "@rput dist;"
   ]
  },
  {
   "cell_type": "code",
   "execution_count": 36,
   "metadata": {},
   "outputs": [
    {
     "data": {
      "text/plain": [
       "RObject{RealSxp}\n",
       "  [1] 6.099180 5.089204 5.009990 5.263079 4.816638 4.516636 5.310367 4.582576\n",
       "  [9] 5.263079 4.593474 4.135215 4.774935 4.868265 5.000000 5.665686 4.764452\n",
       " [17] 5.385165 5.147815 5.865151 5.357238 5.157519 6.284903 5.477226 4.266146\n",
       " [25] 5.753260 5.385165 4.147288 5.567764 4.939636 5.558777 5.099020 4.878524\n",
       " [33] 4.277850 5.049752 4.593474 5.000000 5.108816 5.674504 5.215362 5.186521\n",
       " [41] 5.049752 4.324350 4.806246 3.605551 4.774935 5.744563 4.647580 4.301163\n",
       " [49] 5.029911 4.847680 4.989990 3.885872 4.604346 4.764452 4.381780 4.837355\n",
       " [57] 5.009990 4.604346 5.089204 5.118594 4.939636 4.171331 4.636809 5.375872\n",
       " [65] 5.099020 5.282045 5.440588 5.648008 4.969909 4.636809 5.224940 5.108816\n",
       " [73] 5.300943 4.582576 5.282045 4.472136 5.147815 5.495453 5.118594 4.959839\n",
       " [81] 5.099020 4.472136 5.234501 3.224903 4.722288 4.857983 5.310367 5.567764\n",
       " [89] 5.357238 5.224940 5.495453 4.816638 4.301163 5.375872 4.449719 5.770615\n",
       " [97] 4.647580 4.636809 5.440588 5.486347\n"
      ]
     },
     "execution_count": 36,
     "metadata": {},
     "output_type": "execute_result"
    }
   ],
   "source": [
    "R\"dist\""
   ]
  },
  {
   "cell_type": "markdown",
   "metadata": {},
   "source": [
    "## 4. (Some) essential Julia packages for data science\n",
    "StatsBase: https://juliastats.org/StatsBase.jl/stable/\n",
    "(or Statistics)\n",
    "\n",
    "CSV: https://csv.juliadata.org/stable/\n",
    "\n",
    "DataFrames: https://dataframes.juliadata.org/stable/"
   ]
  },
  {
   "cell_type": "code",
   "execution_count": 37,
   "metadata": {},
   "outputs": [
    {
     "data": {
      "text/plain": [
       "4.989324143437483"
      ]
     },
     "execution_count": 37,
     "metadata": {},
     "output_type": "execute_result"
    }
   ],
   "source": [
    "#Pkg.add(\"StatsBase\")\n",
    "using StatsBase\n",
    "\n",
    "mean(dist)"
   ]
  },
  {
   "cell_type": "code",
   "execution_count": 38,
   "metadata": {},
   "outputs": [
    {
     "data": {
      "text/plain": [
       "(4.989324143437483, 0.5061686065875458)"
      ]
     },
     "execution_count": 38,
     "metadata": {},
     "output_type": "execute_result"
    }
   ],
   "source": [
    "mean_and_std(dist)"
   ]
  },
  {
   "cell_type": "code",
   "execution_count": 39,
   "metadata": {},
   "outputs": [
    {
     "data": {
      "text/plain": [
       "100-element Array{Float64,1}:\n",
       "  2.1926609333511116\n",
       "  0.19732578287632363\n",
       "  0.04082804868516093\n",
       "  0.5408371830572549\n",
       " -0.3411636155880346\n",
       " -0.9338552826690218\n",
       "  0.6342611361609433\n",
       " -0.803582923136686\n",
       "  0.5408371830572549\n",
       " -0.7820526740365459\n",
       " -1.6874012072155076\n",
       " -0.4235537054688396\n",
       " -0.2391684589022632\n",
       "  ⋮\n",
       "  0.7268604693492241\n",
       "  0.4654892550453303\n",
       "  0.999920808183533\n",
       " -0.3411636155880346\n",
       " -1.3595499621273863\n",
       "  0.7636741469502919\n",
       " -1.0660579185618775\n",
       "  1.5435391782417656\n",
       " -0.6751586794221213\n",
       " -0.6964376911207372\n",
       "  0.8915291351215878\n",
       "  0.9819308029618665"
      ]
     },
     "execution_count": 39,
     "metadata": {},
     "output_type": "execute_result"
    }
   ],
   "source": [
    "zscore(dist)"
   ]
  },
  {
   "cell_type": "code",
   "execution_count": 40,
   "metadata": {},
   "outputs": [
    {
     "data": {
      "text/plain": [
       "Summary Stats:\n",
       "Length:         100\n",
       "Missing Count:  0\n",
       "Mean:           4.989324\n",
       "Minimum:        3.224903\n",
       "1st Quartile:   4.644887\n",
       "Median:         5.039832\n",
       "3rd Quartile:   5.310367\n",
       "Maximum:        6.284903\n"
      ]
     },
     "execution_count": 40,
     "metadata": {},
     "output_type": "execute_result"
    }
   ],
   "source": [
    "summarystats(dist)"
   ]
  },
  {
   "cell_type": "markdown",
   "metadata": {},
   "source": [
    "## DataFrames and CSV"
   ]
  },
  {
   "cell_type": "code",
   "execution_count": 41,
   "metadata": {},
   "outputs": [],
   "source": [
    "using CSV\n",
    "using DataFrames\n",
    "\n",
    "kart = CSV.read(download(\"https://raw.githubusercontent.com/rfordatascience/tidytuesday/master/data/2021/2021-05-25/records.csv\"));"
   ]
  },
  {
   "cell_type": "code",
   "execution_count": 42,
   "metadata": {},
   "outputs": [
    {
     "data": {
      "text/plain": [
       "9-element Array{String,1}:\n",
       " \"track\"\n",
       " \"type\"\n",
       " \"shortcut\"\n",
       " \"player\"\n",
       " \"system_played\"\n",
       " \"date\"\n",
       " \"time_period\"\n",
       " \"time\"\n",
       " \"record_duration\""
      ]
     },
     "execution_count": 42,
     "metadata": {},
     "output_type": "execute_result"
    }
   ],
   "source": [
    "names(kart) "
   ]
  },
  {
   "cell_type": "code",
   "execution_count": 43,
   "metadata": {},
   "outputs": [
    {
     "data": {
      "text/html": [
       "<table class=\"data-frame\"><thead><tr><th></th><th>variable</th><th>mean</th><th>min</th><th>median</th><th>max</th><th>nunique</th><th>nmissing</th></tr><tr><th></th><th>Symbol</th><th>Union…</th><th>Any</th><th>Union…</th><th>Any</th><th>Union…</th><th>Nothing</th></tr></thead><tbody><p>9 rows × 8 columns (omitted printing of 1 columns)</p><tr><th>1</th><td>track</td><td></td><td>Banshee Boardwalk</td><td></td><td>Yoshi Valley</td><td>16</td><td></td></tr><tr><th>2</th><td>type</td><td></td><td>Single Lap</td><td></td><td>Three Lap</td><td>2</td><td></td></tr><tr><th>3</th><td>shortcut</td><td></td><td>No</td><td></td><td>Yes</td><td>2</td><td></td></tr><tr><th>4</th><td>player</td><td></td><td>ABE</td><td></td><td>iMathII</td><td>65</td><td></td></tr><tr><th>5</th><td>system_played</td><td></td><td>NTSC</td><td></td><td>PAL</td><td>2</td><td></td></tr><tr><th>6</th><td>date</td><td></td><td>1997-02-15</td><td></td><td>2021-02-25</td><td>1096</td><td></td></tr><tr><th>7</th><td>time_period</td><td></td><td>14.59S</td><td></td><td>6M 9.67S</td><td>1577</td><td></td></tr><tr><th>8</th><td>time</td><td>90.6238</td><td>14.59</td><td>86.19</td><td>375.83</td><td></td><td></td></tr><tr><th>9</th><td>record_duration</td><td>220.751</td><td>0</td><td>51.0</td><td>3659</td><td></td><td></td></tr></tbody></table>"
      ],
      "text/latex": [
       "\\begin{tabular}{r|cccccccc}\n",
       "\t& variable & mean & min & median & max & nunique & nmissing & \\\\\n",
       "\t\\hline\n",
       "\t& Symbol & Union… & Any & Union… & Any & Union… & Nothing & \\\\\n",
       "\t\\hline\n",
       "\t1 & track &  & Banshee Boardwalk &  & Yoshi Valley & 16 &  & $\\dots$ \\\\\n",
       "\t2 & type &  & Single Lap &  & Three Lap & 2 &  & $\\dots$ \\\\\n",
       "\t3 & shortcut &  & No &  & Yes & 2 &  & $\\dots$ \\\\\n",
       "\t4 & player &  & ABE &  & iMathII & 65 &  & $\\dots$ \\\\\n",
       "\t5 & system\\_played &  & NTSC &  & PAL & 2 &  & $\\dots$ \\\\\n",
       "\t6 & date &  & 1997-02-15 &  & 2021-02-25 & 1096 &  & $\\dots$ \\\\\n",
       "\t7 & time\\_period &  & 14.59S &  & 6M 9.67S & 1577 &  & $\\dots$ \\\\\n",
       "\t8 & time & 90.6238 & 14.59 & 86.19 & 375.83 &  &  & $\\dots$ \\\\\n",
       "\t9 & record\\_duration & 220.751 & 0 & 51.0 & 3659 &  &  & $\\dots$ \\\\\n",
       "\\end{tabular}\n"
      ],
      "text/plain": [
       "9×8 DataFrame. Omitted printing of 3 columns\n",
       "│ Row │ variable        │ mean    │ min               │ median │ max          │\n",
       "│     │ \u001b[90mSymbol\u001b[39m          │ \u001b[90mUnion…\u001b[39m  │ \u001b[90mAny\u001b[39m               │ \u001b[90mUnion…\u001b[39m │ \u001b[90mAny\u001b[39m          │\n",
       "├─────┼─────────────────┼─────────┼───────────────────┼────────┼──────────────┤\n",
       "│ 1   │ track           │         │ Banshee Boardwalk │        │ Yoshi Valley │\n",
       "│ 2   │ type            │         │ Single Lap        │        │ Three Lap    │\n",
       "│ 3   │ shortcut        │         │ No                │        │ Yes          │\n",
       "│ 4   │ player          │         │ ABE               │        │ iMathII      │\n",
       "│ 5   │ system_played   │         │ NTSC              │        │ PAL          │\n",
       "│ 6   │ date            │         │ 1997-02-15        │        │ 2021-02-25   │\n",
       "│ 7   │ time_period     │         │ 14.59S            │        │ 6M 9.67S     │\n",
       "│ 8   │ time            │ 90.6238 │ 14.59             │ 86.19  │ 375.83       │\n",
       "│ 9   │ record_duration │ 220.751 │ 0                 │ 51.0   │ 3659         │"
      ]
     },
     "execution_count": 43,
     "metadata": {},
     "output_type": "execute_result"
    }
   ],
   "source": [
    "describe(kart)"
   ]
  },
  {
   "cell_type": "code",
   "execution_count": 44,
   "metadata": {},
   "outputs": [
    {
     "data": {
      "text/html": [
       "<table class=\"data-frame\"><thead><tr><th></th><th>track</th><th>type</th><th>shortcut</th><th>player</th><th>system_played</th><th>date</th><th>time_period</th></tr><tr><th></th><th>String</th><th>String</th><th>String</th><th>String</th><th>String</th><th>Date…</th><th>String</th></tr></thead><tbody><p>5 rows × 9 columns (omitted printing of 2 columns)</p><tr><th>1</th><td>Luigi Raceway</td><td>Three Lap</td><td>No</td><td>Salam</td><td>NTSC</td><td>1997-02-15</td><td>2M 12.99S</td></tr><tr><th>2</th><td>Luigi Raceway</td><td>Three Lap</td><td>No</td><td>Booth</td><td>NTSC</td><td>1997-02-16</td><td>2M 9.99S</td></tr><tr><th>3</th><td>Luigi Raceway</td><td>Three Lap</td><td>No</td><td>Salam</td><td>NTSC</td><td>1997-02-16</td><td>2M 8.99S</td></tr><tr><th>4</th><td>Luigi Raceway</td><td>Three Lap</td><td>No</td><td>Salam</td><td>NTSC</td><td>1997-02-28</td><td>2M 6.99S</td></tr><tr><th>5</th><td>Luigi Raceway</td><td>Three Lap</td><td>No</td><td>Gregg G</td><td>NTSC</td><td>1997-03-07</td><td>2M 4.51S</td></tr></tbody></table>"
      ],
      "text/latex": [
       "\\begin{tabular}{r|cccccccc}\n",
       "\t& track & type & shortcut & player & system\\_played & date & time\\_period & \\\\\n",
       "\t\\hline\n",
       "\t& String & String & String & String & String & Date… & String & \\\\\n",
       "\t\\hline\n",
       "\t1 & Luigi Raceway & Three Lap & No & Salam & NTSC & 1997-02-15 & 2M 12.99S & $\\dots$ \\\\\n",
       "\t2 & Luigi Raceway & Three Lap & No & Booth & NTSC & 1997-02-16 & 2M 9.99S & $\\dots$ \\\\\n",
       "\t3 & Luigi Raceway & Three Lap & No & Salam & NTSC & 1997-02-16 & 2M 8.99S & $\\dots$ \\\\\n",
       "\t4 & Luigi Raceway & Three Lap & No & Salam & NTSC & 1997-02-28 & 2M 6.99S & $\\dots$ \\\\\n",
       "\t5 & Luigi Raceway & Three Lap & No & Gregg G & NTSC & 1997-03-07 & 2M 4.51S & $\\dots$ \\\\\n",
       "\\end{tabular}\n"
      ],
      "text/plain": [
       "5×9 DataFrame. Omitted printing of 4 columns\n",
       "│ Row │ track         │ type      │ shortcut │ player  │ system_played │\n",
       "│     │ \u001b[90mString\u001b[39m        │ \u001b[90mString\u001b[39m    │ \u001b[90mString\u001b[39m   │ \u001b[90mString\u001b[39m  │ \u001b[90mString\u001b[39m        │\n",
       "├─────┼───────────────┼───────────┼──────────┼─────────┼───────────────┤\n",
       "│ 1   │ Luigi Raceway │ Three Lap │ No       │ Salam   │ NTSC          │\n",
       "│ 2   │ Luigi Raceway │ Three Lap │ No       │ Booth   │ NTSC          │\n",
       "│ 3   │ Luigi Raceway │ Three Lap │ No       │ Salam   │ NTSC          │\n",
       "│ 4   │ Luigi Raceway │ Three Lap │ No       │ Salam   │ NTSC          │\n",
       "│ 5   │ Luigi Raceway │ Three Lap │ No       │ Gregg G │ NTSC          │"
      ]
     },
     "execution_count": 44,
     "metadata": {},
     "output_type": "execute_result"
    }
   ],
   "source": [
    "first(kart, 5)"
   ]
  },
  {
   "cell_type": "code",
   "execution_count": 45,
   "metadata": {},
   "outputs": [
    {
     "data": {
      "text/plain": [
       "2334-element PooledArrays.PooledArray{String,UInt32,1,Array{UInt32,1}}:\n",
       " \"Luigi Raceway\"\n",
       " \"Luigi Raceway\"\n",
       " \"Luigi Raceway\"\n",
       " \"Luigi Raceway\"\n",
       " \"Luigi Raceway\"\n",
       " \"Luigi Raceway\"\n",
       " \"Luigi Raceway\"\n",
       " \"Luigi Raceway\"\n",
       " \"Luigi Raceway\"\n",
       " \"Luigi Raceway\"\n",
       " \"Luigi Raceway\"\n",
       " \"Luigi Raceway\"\n",
       " \"Luigi Raceway\"\n",
       " ⋮\n",
       " \"Rainbow Road\"\n",
       " \"Rainbow Road\"\n",
       " \"Rainbow Road\"\n",
       " \"Rainbow Road\"\n",
       " \"Rainbow Road\"\n",
       " \"Rainbow Road\"\n",
       " \"Rainbow Road\"\n",
       " \"Rainbow Road\"\n",
       " \"Rainbow Road\"\n",
       " \"Rainbow Road\"\n",
       " \"Rainbow Road\"\n",
       " \"Rainbow Road\""
      ]
     },
     "execution_count": 45,
     "metadata": {},
     "output_type": "execute_result"
    }
   ],
   "source": [
    "kart.track"
   ]
  },
  {
   "cell_type": "markdown",
   "metadata": {},
   "source": [
    "- denote \"symbol\" with : \n",
    "- used for columns in dataframes"
   ]
  },
  {
   "cell_type": "code",
   "execution_count": 46,
   "metadata": {},
   "outputs": [
    {
     "data": {
      "text/html": [
       "<table class=\"data-frame\"><thead><tr><th></th><th>track</th><th>type</th><th>shortcut</th><th>player</th><th>system_played</th><th>date</th><th>time</th></tr><tr><th></th><th>String</th><th>String</th><th>String</th><th>String</th><th>String</th><th>Date…</th><th>Float64</th></tr></thead><tbody><p>2,334 rows × 8 columns (omitted printing of 1 columns)</p><tr><th>1</th><td>Luigi Raceway</td><td>Three Lap</td><td>No</td><td>Salam</td><td>NTSC</td><td>1997-02-15</td><td>132.99</td></tr><tr><th>2</th><td>Luigi Raceway</td><td>Three Lap</td><td>No</td><td>Booth</td><td>NTSC</td><td>1997-02-16</td><td>129.99</td></tr><tr><th>3</th><td>Luigi Raceway</td><td>Three Lap</td><td>No</td><td>Salam</td><td>NTSC</td><td>1997-02-16</td><td>128.99</td></tr><tr><th>4</th><td>Luigi Raceway</td><td>Three Lap</td><td>No</td><td>Salam</td><td>NTSC</td><td>1997-02-28</td><td>126.99</td></tr><tr><th>5</th><td>Luigi Raceway</td><td>Three Lap</td><td>No</td><td>Gregg G</td><td>NTSC</td><td>1997-03-07</td><td>124.51</td></tr><tr><th>6</th><td>Luigi Raceway</td><td>Three Lap</td><td>No</td><td>Rocky G</td><td>NTSC</td><td>1997-04-30</td><td>122.89</td></tr><tr><th>7</th><td>Luigi Raceway</td><td>Three Lap</td><td>No</td><td>Launspach</td><td>NTSC</td><td>1997-04-30</td><td>122.87</td></tr><tr><th>8</th><td>Luigi Raceway</td><td>Three Lap</td><td>No</td><td>Launspach</td><td>NTSC</td><td>1997-04-30</td><td>122.78</td></tr><tr><th>9</th><td>Luigi Raceway</td><td>Three Lap</td><td>No</td><td>Launspach</td><td>NTSC</td><td>1997-05-27</td><td>122.25</td></tr><tr><th>10</th><td>Luigi Raceway</td><td>Three Lap</td><td>No</td><td>Launspach</td><td>NTSC</td><td>1997-05-27</td><td>122.21</td></tr><tr><th>11</th><td>Luigi Raceway</td><td>Three Lap</td><td>No</td><td>Patrick Q</td><td>NTSC</td><td>1997-07-30</td><td>121.32</td></tr><tr><th>12</th><td>Luigi Raceway</td><td>Three Lap</td><td>No</td><td>Launspach</td><td>NTSC</td><td>1997-08-02</td><td>120.81</td></tr><tr><th>13</th><td>Luigi Raceway</td><td>Three Lap</td><td>No</td><td>Launspach</td><td>NTSC</td><td>1997-08-02</td><td>120.76</td></tr><tr><th>14</th><td>Luigi Raceway</td><td>Three Lap</td><td>No</td><td>Launspach</td><td>NTSC</td><td>1997-10-31</td><td>120.1</td></tr><tr><th>15</th><td>Luigi Raceway</td><td>Three Lap</td><td>No</td><td>Booth</td><td>NTSC</td><td>1998-03-12</td><td>120.04</td></tr><tr><th>16</th><td>Luigi Raceway</td><td>Three Lap</td><td>No</td><td>Booth</td><td>NTSC</td><td>1998-03-13</td><td>120.01</td></tr><tr><th>17</th><td>Luigi Raceway</td><td>Three Lap</td><td>No</td><td>Booth</td><td>NTSC</td><td>1998-05-26</td><td>119.96</td></tr><tr><th>18</th><td>Luigi Raceway</td><td>Three Lap</td><td>No</td><td>Booth</td><td>NTSC</td><td>1998-08-14</td><td>119.86</td></tr><tr><th>19</th><td>Luigi Raceway</td><td>Three Lap</td><td>No</td><td>Penev</td><td>PAL</td><td>1998-09-28</td><td>119.85</td></tr><tr><th>20</th><td>Luigi Raceway</td><td>Three Lap</td><td>No</td><td>Penev</td><td>PAL</td><td>1998-10-01</td><td>119.82</td></tr><tr><th>21</th><td>Luigi Raceway</td><td>Three Lap</td><td>No</td><td>Peter E</td><td>PAL</td><td>1998-10-02</td><td>119.76</td></tr><tr><th>22</th><td>Luigi Raceway</td><td>Three Lap</td><td>No</td><td>Penev</td><td>PAL</td><td>1998-10-24</td><td>119.64</td></tr><tr><th>23</th><td>Luigi Raceway</td><td>Three Lap</td><td>No</td><td>Booth</td><td>NTSC</td><td>1998-11-20</td><td>119.63</td></tr><tr><th>24</th><td>Luigi Raceway</td><td>Three Lap</td><td>No</td><td>Penev</td><td>PAL</td><td>1998-12-24</td><td>119.54</td></tr><tr><th>25</th><td>Luigi Raceway</td><td>Three Lap</td><td>No</td><td>Booth</td><td>NTSC</td><td>1999-01-03</td><td>119.49</td></tr><tr><th>26</th><td>Luigi Raceway</td><td>Three Lap</td><td>No</td><td>Penev</td><td>PAL</td><td>1998-12-28</td><td>119.48</td></tr><tr><th>27</th><td>Luigi Raceway</td><td>Three Lap</td><td>No</td><td>Penev</td><td>PAL</td><td>1998-12-31</td><td>119.39</td></tr><tr><th>28</th><td>Luigi Raceway</td><td>Three Lap</td><td>No</td><td>Penev</td><td>PAL</td><td>1999-05-17</td><td>119.33</td></tr><tr><th>29</th><td>Luigi Raceway</td><td>Three Lap</td><td>No</td><td>Zwartjes</td><td>PAL</td><td>1999-09-07</td><td>119.3</td></tr><tr><th>30</th><td>Luigi Raceway</td><td>Three Lap</td><td>No</td><td>Penev</td><td>PAL</td><td>1999-09-27</td><td>119.26</td></tr><tr><th>&vellip;</th><td>&vellip;</td><td>&vellip;</td><td>&vellip;</td><td>&vellip;</td><td>&vellip;</td><td>&vellip;</td><td>&vellip;</td></tr></tbody></table>"
      ],
      "text/latex": [
       "\\begin{tabular}{r|cccccccc}\n",
       "\t& track & type & shortcut & player & system\\_played & date & time & \\\\\n",
       "\t\\hline\n",
       "\t& String & String & String & String & String & Date… & Float64 & \\\\\n",
       "\t\\hline\n",
       "\t1 & Luigi Raceway & Three Lap & No & Salam & NTSC & 1997-02-15 & 132.99 & $\\dots$ \\\\\n",
       "\t2 & Luigi Raceway & Three Lap & No & Booth & NTSC & 1997-02-16 & 129.99 & $\\dots$ \\\\\n",
       "\t3 & Luigi Raceway & Three Lap & No & Salam & NTSC & 1997-02-16 & 128.99 & $\\dots$ \\\\\n",
       "\t4 & Luigi Raceway & Three Lap & No & Salam & NTSC & 1997-02-28 & 126.99 & $\\dots$ \\\\\n",
       "\t5 & Luigi Raceway & Three Lap & No & Gregg G & NTSC & 1997-03-07 & 124.51 & $\\dots$ \\\\\n",
       "\t6 & Luigi Raceway & Three Lap & No & Rocky G & NTSC & 1997-04-30 & 122.89 & $\\dots$ \\\\\n",
       "\t7 & Luigi Raceway & Three Lap & No & Launspach & NTSC & 1997-04-30 & 122.87 & $\\dots$ \\\\\n",
       "\t8 & Luigi Raceway & Three Lap & No & Launspach & NTSC & 1997-04-30 & 122.78 & $\\dots$ \\\\\n",
       "\t9 & Luigi Raceway & Three Lap & No & Launspach & NTSC & 1997-05-27 & 122.25 & $\\dots$ \\\\\n",
       "\t10 & Luigi Raceway & Three Lap & No & Launspach & NTSC & 1997-05-27 & 122.21 & $\\dots$ \\\\\n",
       "\t11 & Luigi Raceway & Three Lap & No & Patrick Q & NTSC & 1997-07-30 & 121.32 & $\\dots$ \\\\\n",
       "\t12 & Luigi Raceway & Three Lap & No & Launspach & NTSC & 1997-08-02 & 120.81 & $\\dots$ \\\\\n",
       "\t13 & Luigi Raceway & Three Lap & No & Launspach & NTSC & 1997-08-02 & 120.76 & $\\dots$ \\\\\n",
       "\t14 & Luigi Raceway & Three Lap & No & Launspach & NTSC & 1997-10-31 & 120.1 & $\\dots$ \\\\\n",
       "\t15 & Luigi Raceway & Three Lap & No & Booth & NTSC & 1998-03-12 & 120.04 & $\\dots$ \\\\\n",
       "\t16 & Luigi Raceway & Three Lap & No & Booth & NTSC & 1998-03-13 & 120.01 & $\\dots$ \\\\\n",
       "\t17 & Luigi Raceway & Three Lap & No & Booth & NTSC & 1998-05-26 & 119.96 & $\\dots$ \\\\\n",
       "\t18 & Luigi Raceway & Three Lap & No & Booth & NTSC & 1998-08-14 & 119.86 & $\\dots$ \\\\\n",
       "\t19 & Luigi Raceway & Three Lap & No & Penev & PAL & 1998-09-28 & 119.85 & $\\dots$ \\\\\n",
       "\t20 & Luigi Raceway & Three Lap & No & Penev & PAL & 1998-10-01 & 119.82 & $\\dots$ \\\\\n",
       "\t21 & Luigi Raceway & Three Lap & No & Peter E & PAL & 1998-10-02 & 119.76 & $\\dots$ \\\\\n",
       "\t22 & Luigi Raceway & Three Lap & No & Penev & PAL & 1998-10-24 & 119.64 & $\\dots$ \\\\\n",
       "\t23 & Luigi Raceway & Three Lap & No & Booth & NTSC & 1998-11-20 & 119.63 & $\\dots$ \\\\\n",
       "\t24 & Luigi Raceway & Three Lap & No & Penev & PAL & 1998-12-24 & 119.54 & $\\dots$ \\\\\n",
       "\t25 & Luigi Raceway & Three Lap & No & Booth & NTSC & 1999-01-03 & 119.49 & $\\dots$ \\\\\n",
       "\t26 & Luigi Raceway & Three Lap & No & Penev & PAL & 1998-12-28 & 119.48 & $\\dots$ \\\\\n",
       "\t27 & Luigi Raceway & Three Lap & No & Penev & PAL & 1998-12-31 & 119.39 & $\\dots$ \\\\\n",
       "\t28 & Luigi Raceway & Three Lap & No & Penev & PAL & 1999-05-17 & 119.33 & $\\dots$ \\\\\n",
       "\t29 & Luigi Raceway & Three Lap & No & Zwartjes & PAL & 1999-09-07 & 119.3 & $\\dots$ \\\\\n",
       "\t30 & Luigi Raceway & Three Lap & No & Penev & PAL & 1999-09-27 & 119.26 & $\\dots$ \\\\\n",
       "\t$\\dots$ & $\\dots$ & $\\dots$ & $\\dots$ & $\\dots$ & $\\dots$ & $\\dots$ & $\\dots$ &  \\\\\n",
       "\\end{tabular}\n"
      ],
      "text/plain": [
       "2334×8 DataFrame. Omitted printing of 3 columns\n",
       "│ Row  │ track         │ type       │ shortcut │ player    │ system_played │\n",
       "│      │ \u001b[90mString\u001b[39m        │ \u001b[90mString\u001b[39m     │ \u001b[90mString\u001b[39m   │ \u001b[90mString\u001b[39m    │ \u001b[90mString\u001b[39m        │\n",
       "├──────┼───────────────┼────────────┼──────────┼───────────┼───────────────┤\n",
       "│ 1    │ Luigi Raceway │ Three Lap  │ No       │ Salam     │ NTSC          │\n",
       "│ 2    │ Luigi Raceway │ Three Lap  │ No       │ Booth     │ NTSC          │\n",
       "│ 3    │ Luigi Raceway │ Three Lap  │ No       │ Salam     │ NTSC          │\n",
       "│ 4    │ Luigi Raceway │ Three Lap  │ No       │ Salam     │ NTSC          │\n",
       "│ 5    │ Luigi Raceway │ Three Lap  │ No       │ Gregg G   │ NTSC          │\n",
       "│ 6    │ Luigi Raceway │ Three Lap  │ No       │ Rocky G   │ NTSC          │\n",
       "│ 7    │ Luigi Raceway │ Three Lap  │ No       │ Launspach │ NTSC          │\n",
       "│ 8    │ Luigi Raceway │ Three Lap  │ No       │ Launspach │ NTSC          │\n",
       "│ 9    │ Luigi Raceway │ Three Lap  │ No       │ Launspach │ NTSC          │\n",
       "│ 10   │ Luigi Raceway │ Three Lap  │ No       │ Launspach │ NTSC          │\n",
       "⋮\n",
       "│ 2324 │ Rainbow Road  │ Single Lap │ Yes      │ MR        │ PAL           │\n",
       "│ 2325 │ Rainbow Road  │ Single Lap │ Yes      │ abney317  │ PAL           │\n",
       "│ 2326 │ Rainbow Road  │ Single Lap │ Yes      │ MR        │ PAL           │\n",
       "│ 2327 │ Rainbow Road  │ Single Lap │ Yes      │ abney317  │ PAL           │\n",
       "│ 2328 │ Rainbow Road  │ Single Lap │ Yes      │ MR        │ PAL           │\n",
       "│ 2329 │ Rainbow Road  │ Single Lap │ Yes      │ abney317  │ PAL           │\n",
       "│ 2330 │ Rainbow Road  │ Single Lap │ Yes      │ MR        │ PAL           │\n",
       "│ 2331 │ Rainbow Road  │ Single Lap │ Yes      │ abney317  │ PAL           │\n",
       "│ 2332 │ Rainbow Road  │ Single Lap │ Yes      │ MR        │ PAL           │\n",
       "│ 2333 │ Rainbow Road  │ Single Lap │ Yes      │ Dan       │ PAL           │\n",
       "│ 2334 │ Rainbow Road  │ Single Lap │ Yes      │ MR        │ PAL           │"
      ]
     },
     "execution_count": 46,
     "metadata": {},
     "output_type": "execute_result"
    }
   ],
   "source": [
    "select(kart, Not(:time_period))"
   ]
  },
  {
   "cell_type": "code",
   "execution_count": 47,
   "metadata": {},
   "outputs": [
    {
     "data": {
      "text/html": [
       "<table class=\"data-frame\"><thead><tr><th></th><th>name</th><th>laps</th><th>track</th><th>type</th><th>shortcut</th><th>player</th><th>system_played</th></tr><tr><th></th><th>String</th><th>String</th><th>String</th><th>String</th><th>String</th><th>String</th><th>String</th></tr></thead><tbody><p>2,334 rows × 11 columns (omitted printing of 4 columns)</p><tr><th>1</th><td>Luigi Raceway</td><td>Three Lap</td><td>Luigi Raceway</td><td>Three Lap</td><td>No</td><td>Salam</td><td>NTSC</td></tr><tr><th>2</th><td>Luigi Raceway</td><td>Three Lap</td><td>Luigi Raceway</td><td>Three Lap</td><td>No</td><td>Booth</td><td>NTSC</td></tr><tr><th>3</th><td>Luigi Raceway</td><td>Three Lap</td><td>Luigi Raceway</td><td>Three Lap</td><td>No</td><td>Salam</td><td>NTSC</td></tr><tr><th>4</th><td>Luigi Raceway</td><td>Three Lap</td><td>Luigi Raceway</td><td>Three Lap</td><td>No</td><td>Salam</td><td>NTSC</td></tr><tr><th>5</th><td>Luigi Raceway</td><td>Three Lap</td><td>Luigi Raceway</td><td>Three Lap</td><td>No</td><td>Gregg G</td><td>NTSC</td></tr><tr><th>6</th><td>Luigi Raceway</td><td>Three Lap</td><td>Luigi Raceway</td><td>Three Lap</td><td>No</td><td>Rocky G</td><td>NTSC</td></tr><tr><th>7</th><td>Luigi Raceway</td><td>Three Lap</td><td>Luigi Raceway</td><td>Three Lap</td><td>No</td><td>Launspach</td><td>NTSC</td></tr><tr><th>8</th><td>Luigi Raceway</td><td>Three Lap</td><td>Luigi Raceway</td><td>Three Lap</td><td>No</td><td>Launspach</td><td>NTSC</td></tr><tr><th>9</th><td>Luigi Raceway</td><td>Three Lap</td><td>Luigi Raceway</td><td>Three Lap</td><td>No</td><td>Launspach</td><td>NTSC</td></tr><tr><th>10</th><td>Luigi Raceway</td><td>Three Lap</td><td>Luigi Raceway</td><td>Three Lap</td><td>No</td><td>Launspach</td><td>NTSC</td></tr><tr><th>11</th><td>Luigi Raceway</td><td>Three Lap</td><td>Luigi Raceway</td><td>Three Lap</td><td>No</td><td>Patrick Q</td><td>NTSC</td></tr><tr><th>12</th><td>Luigi Raceway</td><td>Three Lap</td><td>Luigi Raceway</td><td>Three Lap</td><td>No</td><td>Launspach</td><td>NTSC</td></tr><tr><th>13</th><td>Luigi Raceway</td><td>Three Lap</td><td>Luigi Raceway</td><td>Three Lap</td><td>No</td><td>Launspach</td><td>NTSC</td></tr><tr><th>14</th><td>Luigi Raceway</td><td>Three Lap</td><td>Luigi Raceway</td><td>Three Lap</td><td>No</td><td>Launspach</td><td>NTSC</td></tr><tr><th>15</th><td>Luigi Raceway</td><td>Three Lap</td><td>Luigi Raceway</td><td>Three Lap</td><td>No</td><td>Booth</td><td>NTSC</td></tr><tr><th>16</th><td>Luigi Raceway</td><td>Three Lap</td><td>Luigi Raceway</td><td>Three Lap</td><td>No</td><td>Booth</td><td>NTSC</td></tr><tr><th>17</th><td>Luigi Raceway</td><td>Three Lap</td><td>Luigi Raceway</td><td>Three Lap</td><td>No</td><td>Booth</td><td>NTSC</td></tr><tr><th>18</th><td>Luigi Raceway</td><td>Three Lap</td><td>Luigi Raceway</td><td>Three Lap</td><td>No</td><td>Booth</td><td>NTSC</td></tr><tr><th>19</th><td>Luigi Raceway</td><td>Three Lap</td><td>Luigi Raceway</td><td>Three Lap</td><td>No</td><td>Penev</td><td>PAL</td></tr><tr><th>20</th><td>Luigi Raceway</td><td>Three Lap</td><td>Luigi Raceway</td><td>Three Lap</td><td>No</td><td>Penev</td><td>PAL</td></tr><tr><th>21</th><td>Luigi Raceway</td><td>Three Lap</td><td>Luigi Raceway</td><td>Three Lap</td><td>No</td><td>Peter E</td><td>PAL</td></tr><tr><th>22</th><td>Luigi Raceway</td><td>Three Lap</td><td>Luigi Raceway</td><td>Three Lap</td><td>No</td><td>Penev</td><td>PAL</td></tr><tr><th>23</th><td>Luigi Raceway</td><td>Three Lap</td><td>Luigi Raceway</td><td>Three Lap</td><td>No</td><td>Booth</td><td>NTSC</td></tr><tr><th>24</th><td>Luigi Raceway</td><td>Three Lap</td><td>Luigi Raceway</td><td>Three Lap</td><td>No</td><td>Penev</td><td>PAL</td></tr><tr><th>25</th><td>Luigi Raceway</td><td>Three Lap</td><td>Luigi Raceway</td><td>Three Lap</td><td>No</td><td>Booth</td><td>NTSC</td></tr><tr><th>26</th><td>Luigi Raceway</td><td>Three Lap</td><td>Luigi Raceway</td><td>Three Lap</td><td>No</td><td>Penev</td><td>PAL</td></tr><tr><th>27</th><td>Luigi Raceway</td><td>Three Lap</td><td>Luigi Raceway</td><td>Three Lap</td><td>No</td><td>Penev</td><td>PAL</td></tr><tr><th>28</th><td>Luigi Raceway</td><td>Three Lap</td><td>Luigi Raceway</td><td>Three Lap</td><td>No</td><td>Penev</td><td>PAL</td></tr><tr><th>29</th><td>Luigi Raceway</td><td>Three Lap</td><td>Luigi Raceway</td><td>Three Lap</td><td>No</td><td>Zwartjes</td><td>PAL</td></tr><tr><th>30</th><td>Luigi Raceway</td><td>Three Lap</td><td>Luigi Raceway</td><td>Three Lap</td><td>No</td><td>Penev</td><td>PAL</td></tr><tr><th>&vellip;</th><td>&vellip;</td><td>&vellip;</td><td>&vellip;</td><td>&vellip;</td><td>&vellip;</td><td>&vellip;</td><td>&vellip;</td></tr></tbody></table>"
      ],
      "text/latex": [
       "\\begin{tabular}{r|cccccccc}\n",
       "\t& name & laps & track & type & shortcut & player & system\\_played & \\\\\n",
       "\t\\hline\n",
       "\t& String & String & String & String & String & String & String & \\\\\n",
       "\t\\hline\n",
       "\t1 & Luigi Raceway & Three Lap & Luigi Raceway & Three Lap & No & Salam & NTSC & $\\dots$ \\\\\n",
       "\t2 & Luigi Raceway & Three Lap & Luigi Raceway & Three Lap & No & Booth & NTSC & $\\dots$ \\\\\n",
       "\t3 & Luigi Raceway & Three Lap & Luigi Raceway & Three Lap & No & Salam & NTSC & $\\dots$ \\\\\n",
       "\t4 & Luigi Raceway & Three Lap & Luigi Raceway & Three Lap & No & Salam & NTSC & $\\dots$ \\\\\n",
       "\t5 & Luigi Raceway & Three Lap & Luigi Raceway & Three Lap & No & Gregg G & NTSC & $\\dots$ \\\\\n",
       "\t6 & Luigi Raceway & Three Lap & Luigi Raceway & Three Lap & No & Rocky G & NTSC & $\\dots$ \\\\\n",
       "\t7 & Luigi Raceway & Three Lap & Luigi Raceway & Three Lap & No & Launspach & NTSC & $\\dots$ \\\\\n",
       "\t8 & Luigi Raceway & Three Lap & Luigi Raceway & Three Lap & No & Launspach & NTSC & $\\dots$ \\\\\n",
       "\t9 & Luigi Raceway & Three Lap & Luigi Raceway & Three Lap & No & Launspach & NTSC & $\\dots$ \\\\\n",
       "\t10 & Luigi Raceway & Three Lap & Luigi Raceway & Three Lap & No & Launspach & NTSC & $\\dots$ \\\\\n",
       "\t11 & Luigi Raceway & Three Lap & Luigi Raceway & Three Lap & No & Patrick Q & NTSC & $\\dots$ \\\\\n",
       "\t12 & Luigi Raceway & Three Lap & Luigi Raceway & Three Lap & No & Launspach & NTSC & $\\dots$ \\\\\n",
       "\t13 & Luigi Raceway & Three Lap & Luigi Raceway & Three Lap & No & Launspach & NTSC & $\\dots$ \\\\\n",
       "\t14 & Luigi Raceway & Three Lap & Luigi Raceway & Three Lap & No & Launspach & NTSC & $\\dots$ \\\\\n",
       "\t15 & Luigi Raceway & Three Lap & Luigi Raceway & Three Lap & No & Booth & NTSC & $\\dots$ \\\\\n",
       "\t16 & Luigi Raceway & Three Lap & Luigi Raceway & Three Lap & No & Booth & NTSC & $\\dots$ \\\\\n",
       "\t17 & Luigi Raceway & Three Lap & Luigi Raceway & Three Lap & No & Booth & NTSC & $\\dots$ \\\\\n",
       "\t18 & Luigi Raceway & Three Lap & Luigi Raceway & Three Lap & No & Booth & NTSC & $\\dots$ \\\\\n",
       "\t19 & Luigi Raceway & Three Lap & Luigi Raceway & Three Lap & No & Penev & PAL & $\\dots$ \\\\\n",
       "\t20 & Luigi Raceway & Three Lap & Luigi Raceway & Three Lap & No & Penev & PAL & $\\dots$ \\\\\n",
       "\t21 & Luigi Raceway & Three Lap & Luigi Raceway & Three Lap & No & Peter E & PAL & $\\dots$ \\\\\n",
       "\t22 & Luigi Raceway & Three Lap & Luigi Raceway & Three Lap & No & Penev & PAL & $\\dots$ \\\\\n",
       "\t23 & Luigi Raceway & Three Lap & Luigi Raceway & Three Lap & No & Booth & NTSC & $\\dots$ \\\\\n",
       "\t24 & Luigi Raceway & Three Lap & Luigi Raceway & Three Lap & No & Penev & PAL & $\\dots$ \\\\\n",
       "\t25 & Luigi Raceway & Three Lap & Luigi Raceway & Three Lap & No & Booth & NTSC & $\\dots$ \\\\\n",
       "\t26 & Luigi Raceway & Three Lap & Luigi Raceway & Three Lap & No & Penev & PAL & $\\dots$ \\\\\n",
       "\t27 & Luigi Raceway & Three Lap & Luigi Raceway & Three Lap & No & Penev & PAL & $\\dots$ \\\\\n",
       "\t28 & Luigi Raceway & Three Lap & Luigi Raceway & Three Lap & No & Penev & PAL & $\\dots$ \\\\\n",
       "\t29 & Luigi Raceway & Three Lap & Luigi Raceway & Three Lap & No & Zwartjes & PAL & $\\dots$ \\\\\n",
       "\t30 & Luigi Raceway & Three Lap & Luigi Raceway & Three Lap & No & Penev & PAL & $\\dots$ \\\\\n",
       "\t$\\dots$ & $\\dots$ & $\\dots$ & $\\dots$ & $\\dots$ & $\\dots$ & $\\dots$ & $\\dots$ &  \\\\\n",
       "\\end{tabular}\n"
      ],
      "text/plain": [
       "2334×11 DataFrame. Omitted printing of 6 columns\n",
       "│ Row  │ name          │ laps       │ track         │ type       │ shortcut │\n",
       "│      │ \u001b[90mString\u001b[39m        │ \u001b[90mString\u001b[39m     │ \u001b[90mString\u001b[39m        │ \u001b[90mString\u001b[39m     │ \u001b[90mString\u001b[39m   │\n",
       "├──────┼───────────────┼────────────┼───────────────┼────────────┼──────────┤\n",
       "│ 1    │ Luigi Raceway │ Three Lap  │ Luigi Raceway │ Three Lap  │ No       │\n",
       "│ 2    │ Luigi Raceway │ Three Lap  │ Luigi Raceway │ Three Lap  │ No       │\n",
       "│ 3    │ Luigi Raceway │ Three Lap  │ Luigi Raceway │ Three Lap  │ No       │\n",
       "│ 4    │ Luigi Raceway │ Three Lap  │ Luigi Raceway │ Three Lap  │ No       │\n",
       "│ 5    │ Luigi Raceway │ Three Lap  │ Luigi Raceway │ Three Lap  │ No       │\n",
       "│ 6    │ Luigi Raceway │ Three Lap  │ Luigi Raceway │ Three Lap  │ No       │\n",
       "│ 7    │ Luigi Raceway │ Three Lap  │ Luigi Raceway │ Three Lap  │ No       │\n",
       "│ 8    │ Luigi Raceway │ Three Lap  │ Luigi Raceway │ Three Lap  │ No       │\n",
       "│ 9    │ Luigi Raceway │ Three Lap  │ Luigi Raceway │ Three Lap  │ No       │\n",
       "│ 10   │ Luigi Raceway │ Three Lap  │ Luigi Raceway │ Three Lap  │ No       │\n",
       "⋮\n",
       "│ 2324 │ Rainbow Road  │ Single Lap │ Rainbow Road  │ Single Lap │ Yes      │\n",
       "│ 2325 │ Rainbow Road  │ Single Lap │ Rainbow Road  │ Single Lap │ Yes      │\n",
       "│ 2326 │ Rainbow Road  │ Single Lap │ Rainbow Road  │ Single Lap │ Yes      │\n",
       "│ 2327 │ Rainbow Road  │ Single Lap │ Rainbow Road  │ Single Lap │ Yes      │\n",
       "│ 2328 │ Rainbow Road  │ Single Lap │ Rainbow Road  │ Single Lap │ Yes      │\n",
       "│ 2329 │ Rainbow Road  │ Single Lap │ Rainbow Road  │ Single Lap │ Yes      │\n",
       "│ 2330 │ Rainbow Road  │ Single Lap │ Rainbow Road  │ Single Lap │ Yes      │\n",
       "│ 2331 │ Rainbow Road  │ Single Lap │ Rainbow Road  │ Single Lap │ Yes      │\n",
       "│ 2332 │ Rainbow Road  │ Single Lap │ Rainbow Road  │ Single Lap │ Yes      │\n",
       "│ 2333 │ Rainbow Road  │ Single Lap │ Rainbow Road  │ Single Lap │ Yes      │\n",
       "│ 2334 │ Rainbow Road  │ Single Lap │ Rainbow Road  │ Single Lap │ Yes      │"
      ]
     },
     "execution_count": 47,
     "metadata": {},
     "output_type": "execute_result"
    }
   ],
   "source": [
    "select(kart, :track => :name, :type => :laps, :)"
   ]
  }
 ],
 "metadata": {
  "kernelspec": {
   "display_name": "Julia 1.5.1",
   "language": "julia",
   "name": "julia-1.5"
  },
  "language_info": {
   "file_extension": ".jl",
   "mimetype": "application/julia",
   "name": "julia",
   "version": "1.5.1"
  }
 },
 "nbformat": 4,
 "nbformat_minor": 2
}
