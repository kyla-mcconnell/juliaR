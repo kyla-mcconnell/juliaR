{
 "cells": [
  {
   "cell_type": "markdown",
   "metadata": {},
   "source": [
    "# Julia for R-Lovers\n",
    "## Demo: Sleepstudy LMM"
   ]
  },
  {
   "cell_type": "code",
   "execution_count": null,
   "metadata": {},
   "outputs": [],
   "source": [
    "using RCall;\n",
    "using MixedModels;\n",
    "using StatsBase, CSV, DataFrames;\n",
    "\n",
    "R\"\"\"\n",
    "library(tidyverse)\n",
    "library(lme4) #package for doing linear mixed effects models in R\n",
    "\"\"\""
   ]
  },
  {
   "cell_type": "markdown",
   "metadata": {},
   "source": [
    "### Sleep study data\n",
    "- Dataset included in lme4 in R and MixedModels in Julia\n",
    "- 18 participants restricted to 3 hours of sleep every night for 9 nights\n",
    "- DV: average reaction time speed\n",
    "\n",
    "- http://lme4.r-forge.r-project.org/slides/2011-01-11-Madison/2Longitudinal.pdf\n",
    "\n",
    "### LMMs\n",
    "- linear mixed effects models, add to linear regression the ability to account for random variance in repeated-measures designs (i.e., same participants or same items)\n",
    "- technique well-used in psychology, cognitive science, linguistics, etc. \n",
    "- lme4 models often fail to converge in R (i.e. don't find a solution), requiring simplified model specification \n",
    "- takes a long time even when it does converge"
   ]
  },
  {
   "cell_type": "markdown",
   "metadata": {},
   "source": [
    "## 1) Load data in Julia"
   ]
  },
  {
   "cell_type": "code",
   "execution_count": null,
   "metadata": {},
   "outputs": [],
   "source": [
    "sleep = DataFrame(MixedModels.dataset(:sleepstudy));\n",
    "\n",
    "names(sleep)"
   ]
  },
  {
   "cell_type": "code",
   "execution_count": null,
   "metadata": {},
   "outputs": [],
   "source": [
    "first(sleep, 10)"
   ]
  },
  {
   "cell_type": "code",
   "execution_count": null,
   "metadata": {},
   "outputs": [],
   "source": [
    "summarystats(sleep.reaction)"
   ]
  },
  {
   "cell_type": "markdown",
   "metadata": {},
   "source": [
    "## 2) Wrangling in R"
   ]
  },
  {
   "cell_type": "code",
   "execution_count": null,
   "metadata": {},
   "outputs": [],
   "source": [
    "@rput sleep;"
   ]
  },
  {
   "cell_type": "code",
   "execution_count": null,
   "metadata": {},
   "outputs": [],
   "source": [
    "R\"\"\"\n",
    "sleep %>% \n",
    "  group_by(days) %>%\n",
    "  summarize(mean(reaction))\n",
    "\"\"\""
   ]
  },
  {
   "cell_type": "code",
   "execution_count": null,
   "metadata": {},
   "outputs": [],
   "source": [
    "R\"\"\"\n",
    "sleep %>% \n",
    "  group_by(subj) %>%\n",
    "  summarize(mean(reaction))\n",
    "\"\"\""
   ]
  },
  {
   "cell_type": "code",
   "execution_count": null,
   "metadata": {},
   "outputs": [],
   "source": [
    "R\"\"\"\n",
    "ggplot(sleep, aes(x= days, y = reaction)) +\n",
    "  geom_smooth(method = \"lm\", color = \"grey\", se = F) +\n",
    "  geom_point(aes(color = subj), position = \"dodge\") + \n",
    "  theme_minimal()\n",
    "\"\"\""
   ]
  },
  {
   "cell_type": "code",
   "execution_count": null,
   "metadata": {},
   "outputs": [],
   "source": [
    "R\"\"\"\n",
    "ggplot(sleep, aes(x= days, y = reaction)) +\n",
    "  geom_smooth(method = \"lm\", color = \"grey\", se = F) +\n",
    "  geom_point(aes(color = as.factor(days)), position = \"dodge\", show.legend = FALSE) +\n",
    "  facet_wrap(~subj) + \n",
    "  theme_minimal()\n",
    "\"\"\""
   ]
  },
  {
   "cell_type": "markdown",
   "metadata": {},
   "source": [
    "## 3) Model in Julia"
   ]
  },
  {
   "cell_type": "code",
   "execution_count": null,
   "metadata": {},
   "outputs": [],
   "source": [
    "@rget sleep #don't have to do this in this example, but would have to if you make changes to the df in R"
   ]
  },
  {
   "cell_type": "markdown",
   "metadata": {},
   "source": [
    "LMM formula (similar to R)\n",
    "Regression syntax\n",
    "    - DV ~ predictors\n",
    "Random effect term: \n",
    "    - accounts for difference by subj\n",
    "    - random intercepts (y-axis location)\n",
    "    - random slope \n",
    "    - (1 + predictor | subj)\n",
    "    \n",
    " - In this case MixedModel syntax is similar to R:\n",
    "     - lmer(reaction ~ days + (1 + days | subj))"
   ]
  },
  {
   "cell_type": "code",
   "execution_count": null,
   "metadata": {},
   "outputs": [],
   "source": [
    "formula_sleep = @formula (reaction ~ days + (1 + days | subj));"
   ]
  },
  {
   "cell_type": "code",
   "execution_count": null,
   "metadata": {},
   "outputs": [],
   "source": [
    "sleep_model = fit(MixedModel, formula_sleep, sleep);"
   ]
  },
  {
   "cell_type": "code",
   "execution_count": null,
   "metadata": {},
   "outputs": [],
   "source": [
    "show(sleep_model)"
   ]
  },
  {
   "cell_type": "markdown",
   "metadata": {},
   "source": [
    "### Example\n",
    "formula_maximal = @formula (DV  ~ f_1 * f_2 * f_3 * f_4 + c_1 + c_2 + c_3 + c_4 + c_5 +\n",
    "               (1 + f_1 + c_1 + c_2 + c_3 + c_4 | id) + \n",
    "               (1 + c_1 + f_2 * f_3 | item_1) +\n",
    "               (1 + c_1 + f_2 * f_3 | item_2));"
   ]
  },
  {
   "cell_type": "markdown",
   "metadata": {},
   "source": [
    "### Coding categorical predictors\n",
    "cntrsts = merge(\n",
    "    Dict(:cond => EffectsCoding(base=\"cond_A\"),\n",
    "         :education => HelmertCoding(levels=[\"High school\", \"Undergraduate\", \"Grad school\"]),\n",
    "         :id => Grouping(),\n",
    "         :item => Grouping())\n",
    ");\n",
    "\n",
    "sleep_model = fit(MixedModel, formula_sleep, sleep, contrasts = cntrsts);"
   ]
  },
  {
   "cell_type": "markdown",
   "metadata": {},
   "source": [
    "## Visualize model output in R"
   ]
  },
  {
   "cell_type": "code",
   "execution_count": null,
   "metadata": {},
   "outputs": [],
   "source": [
    "using JellyMe4 #companion to lme4 / MixedModels and RCall\n",
    "\n",
    "sleep_model_R = (sleep_model, sleep)\n",
    "\n",
    "@rput sleep_model_R"
   ]
  },
  {
   "cell_type": "code",
   "execution_count": null,
   "metadata": {},
   "outputs": [],
   "source": [
    "R\"sleep_model_R\""
   ]
  },
  {
   "cell_type": "code",
   "execution_count": null,
   "metadata": {},
   "outputs": [],
   "source": [
    "R\"\"\"\n",
    "library(performance)\n",
    "check_model(sleep_model_R)\n",
    "\"\"\""
   ]
  },
  {
   "cell_type": "code",
   "execution_count": null,
   "metadata": {},
   "outputs": [],
   "source": [
    "R\"\"\"\n",
    "library(ggeffects)\n",
    "plot(ggpredict(sleep_model_R, terms = \"days\")) \n",
    "\"\"\""
   ]
  },
  {
   "cell_type": "code",
   "execution_count": null,
   "metadata": {},
   "outputs": [],
   "source": [
    "R\"\"\"\n",
    "library(lattice)\n",
    "dotplot(ranef(sleep_model_R))\n",
    "\"\"\""
   ]
  },
  {
   "cell_type": "markdown",
   "metadata": {},
   "source": [
    "## Summary\n",
    "- With the R commands from RCall (R\"\", @rput, @rget) you can use R for visualization and wrangling but let Julia do the \"heavy lifting\" of modeling\n",
    "- My example uses LMMs (my use case) but you could substitute that step with any modeling methodology\n",
    "\n",
    "\n",
    "Things to look out for:\n",
    "- missing values may be treated differently\n",
    "    - easy solution: remove NAs in R in advance\n",
    "- changes in packages, especially \"younger\" ones\n",
    "    - may have to be creative with package management \n",
    "- may be less on Stack Overflow "
   ]
  }
 ],
 "metadata": {
  "kernelspec": {
   "display_name": "Julia 1.5.1",
   "language": "julia",
   "name": "julia-1.5"
  },
  "language_info": {
   "file_extension": ".jl",
   "mimetype": "application/julia",
   "name": "julia",
   "version": "1.5.1"
  }
 },
 "nbformat": 4,
 "nbformat_minor": 2
}
